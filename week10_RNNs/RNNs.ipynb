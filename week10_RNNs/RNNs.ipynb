{
 "cells": [
  {
   "cell_type": "markdown",
   "metadata": {},
   "source": [
    "## Relationship with Feedforward Neural Network"
   ]
  },
  {
   "cell_type": "markdown",
   "metadata": {},
   "source": [
    "[TOC]\n",
    "\n",
    "\n",
    "\n",
    "\n",
    "\n",
    "## Brief Intro\n",
    "Many application involve `temporal dependencies` or `dependencies over time`\n",
    "- use __`memory elements`__ to solve\n",
    "- based on `FeedForward Neural Network(FFNN)`\n",
    "- __Shortcoming__: Gradient Disappearance\n",
    "- __Reference Links__: 梯度消失， [时延神经网络](https://onlinelibrary.wiley.com/doi/abs/10.1207/s15516709cog1402_1)， [LSTM](http://www.bioinf.jku.at/publications/older/2604.pdf)， [门控循环单元（GRUs）](https://skymind.com/wiki/lstm)\n",
    "\n",
    "## FeedForward & BackPropogation(5-11)\n",
    "- [Frequently Used Derivatives](http://tutorial.math.lamar.edu/pdf/Common_Derivatives_Integrals.pdf)\n",
    "-  [Optimeize Learning Rate](http://blog.datumbox.com/tuning-the-learning-rate-in-gradient-descent/)\n",
    "-  [Comprehend Learning Rate](http://cs231n.github.io/neural-networks-3/#loss) \n",
    "\\* Skipped Chapter 9 '`ackpropogation:Exmple I`'& Chapter 10 '`Backpropogation:Exmple II`'(Focus on __Mathematical Deduction Process__)\n",
    "\n",
    "## Recurrent Neural Networks(RNNs)(12-)\n",
    "### Two fundamental differences\n",
    "- 1.The manner by which we difine inputs and outputs\n",
    "- 2.Memory elements\n",
    "\n",
    "### Simple RNNs\n",
    "[Elman Neural Network](https://onlinelibrary.wiley.com/doi/abs/10.1207/s15516709cog1402_1)\n",
    "- Present State = Activation(Present Input * Weight + Pasts State * Weight )\n",
    "$$\\overline{s_t} = \\Phi(\\overline{x_t} W_x + \\overline{s_{t-1}} W_s)$$\n",
    "- Output  = Present State *  Weight\n",
    "$$\\overline{y_t} = \\overline{s_t}W_y ||  \\sigma (\\overline{s_t}W_y)$$\n",
    "\n",
    "### Unfolding Model\n",
    "![202aacf9f99d26bf0fb5abafab35078b.png](en-resource://database/557:0)\n",
    "\n",
    "\n"
   ]
  },
  {
   "cell_type": "code",
   "execution_count": null,
   "metadata": {},
   "outputs": [],
   "source": []
  }
 ],
 "metadata": {
  "kernelspec": {
   "display_name": "Python 3",
   "language": "python",
   "name": "python3"
  },
  "language_info": {
   "codemirror_mode": {
    "name": "ipython",
    "version": 3
   },
   "file_extension": ".py",
   "mimetype": "text/x-python",
   "name": "python",
   "nbconvert_exporter": "python",
   "pygments_lexer": "ipython3",
   "version": "3.7.1"
  },
  "toc": {
   "base_numbering": 1,
   "nav_menu": {},
   "number_sections": true,
   "sideBar": true,
   "skip_h1_title": false,
   "title_cell": "Table of Contents",
   "title_sidebar": "Contents",
   "toc_cell": false,
   "toc_position": {},
   "toc_section_display": true,
   "toc_window_display": true
  }
 },
 "nbformat": 4,
 "nbformat_minor": 2
}
