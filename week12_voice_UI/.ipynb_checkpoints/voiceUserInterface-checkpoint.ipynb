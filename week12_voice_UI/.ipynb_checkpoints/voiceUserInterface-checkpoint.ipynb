{
 "cells": [
  {
   "cell_type": "markdown",
   "metadata": {},
   "source": [
    "## Test FFT"
   ]
  },
  {
   "cell_type": "markdown",
   "metadata": {},
   "source": [
    "### utils"
   ]
  },
  {
   "cell_type": "code",
   "execution_count": 14,
   "metadata": {},
   "outputs": [],
   "source": [
    "# utils.py\n",
    "import matplotlib.pyplot as plt\n",
    "import numpy as np\n",
    "\n",
    "def sinusoid(freq):\n",
    "    \"\"\"\n",
    "    return a sinusoidal of random amplitude and phase for a given frequency\n",
    "    :param freq: \n",
    "    :return: \n",
    "    \"\"\"\n",
    "    phase = np.random.random()\n",
    "    amplitude = 2 * (np.random.random_integers(1, 10))\n",
    "    return amplitude * np.cos(2 * np.pi * freq - phase)\n",
    "\n",
    "\n",
    "def get_wave_timing(num_samples=500, range_of_time = 5.0):\n",
    "    \"\"\"\n",
    "    provide an array of time values of size num_samples spread evenly over range_of_time\n",
    "    :param num_samples: int \n",
    "    :param range_of_time: float\n",
    "    :return: int, float, np.array\n",
    "    \"\"\"\n",
    "    # sample spacing\n",
    "    spacing = range_of_time / num_samples\n",
    "    # array for time samples\n",
    "    t = np.linspace(0.0, range_of_time, num_samples)\n",
    "    return num_samples, spacing, t\n",
    "\n",
    "\n",
    "def make_waves(t, freqs):\n",
    "    \"\"\"\n",
    "    convert three frequencies into arrays of discrete values representing sinusoidal waves\n",
    "    :param freqs: [float, float, float]\n",
    "    :return: [np.array, np.array, np.array]\n",
    "    \"\"\"\n",
    "    w0 = sinusoid(t * freqs[0])\n",
    "    w1 = sinusoid(t * freqs[1])\n",
    "    w2 = sinusoid(t * freqs[2])\n",
    "    return w0, w1, w2\n",
    "\n",
    "\n",
    "def display_sinusoids(time_array, f1, f2, f3, sum):\n",
    "    # plot three frequencies with random phase shifts on y axis\n",
    "    # plt.figure()\n",
    "    fig, ax = plt.subplots(4, 1)\n",
    "    # plt.subplot(411)  # 3 rows, 1 column, fignum 1\n",
    "    ax[0].plot(time_array, f1)\n",
    "    ax[0].set_title('1st frequency component')\n",
    "\n",
    "    # plt.subplot(412)  # 3 rows, 1 column, fignum 2\n",
    "    ax[1].plot(time_array, f2)\n",
    "    ax[1].set_title('2nd frequency component')\n",
    "\n",
    "    # plt.subplot(413)  # 3 rows, 1 column, fignum 3\n",
    "    ax[2].plot(time_array, f3)\n",
    "    ax[2].set_title('3rd frequency component')\n",
    "\n",
    "    # sum\n",
    "    # plt.subplot(414)  # 3 rows, 1 column, fignum 4\n",
    "    ax[3].plot(time_array, sum, 'r')\n",
    "    ax[3].set_title('Sum of components')\n",
    "    ax[3].set_ylabel('amplitude')\n",
    "    ax[3].set_xlabel('time')\n",
    "\n",
    "    # adjust format of display to make room for titles\n",
    "    plt.subplots_adjust(\n",
    "        top=0.94,\n",
    "        bottom=0.11,\n",
    "        left=0.11,\n",
    "        right=0.97,\n",
    "        hspace=0.65,\n",
    "        wspace=0.2\n",
    "    )\n",
    "    # plt.show()\n",
    "    return fig\n",
    "\n",
    "\n",
    "def display_fft(xf, yf):\n",
    "    num_samples = np.shape(yf)[0]\n",
    "    fig, ax = plt.subplots()\n",
    "    ax.plot(xf, 2.0 / num_samples * np.abs(yf[:num_samples // 2]))\n",
    "    plt.title('Fast Fourier Transform')\n",
    "    plt.xlabel('frequency')\n",
    "    plt.ylabel('amplitude')\n",
    "    return fig\n"
   ]
  },
  {
   "cell_type": "markdown",
   "metadata": {},
   "source": [
    "### function"
   ]
  },
  {
   "cell_type": "code",
   "execution_count": 16,
   "metadata": {},
   "outputs": [],
   "source": [
    "# function.py\n",
    "import numpy as np\n",
    "import scipy.fftpack\n",
    "\n",
    "def choose_frequencies():\n",
    "    \"\"\"\n",
    "    # provide three frequencies in a range between 1 and 50    \n",
    "    :return: [int, int, int]\n",
    "    \"\"\"\n",
    "    # *** TODO provide three frequencies between 1 and 50\n",
    "    freq1 = 1\n",
    "    freq2 = 5\n",
    "    freq3 = 25\n",
    "    # end TODO\n",
    "\n",
    "    return [freq1, freq2, freq3]\n",
    "\n",
    "\n",
    "def add_the_waves(freqs):\n",
    "    \"\"\"\n",
    "    create three sinusoidal waves and one wave that is the sum of the three\n",
    "    :param freqs: [int, int, int]\n",
    "    :return: [np.array, np.array, np.array, np.array]\n",
    "        representing wave1, wave2, wave3, sum of waves\n",
    "        each array contains 500(by default) discrete values for plotting a sinusoidal\n",
    "    \"\"\"\n",
    "    _, _, t = get_wave_timing()\n",
    "    w1, w2, w3 = make_waves(t, freqs)\n",
    "\n",
    "    # TODO sum the waves together to form sum_waves\n",
    "    sum_waves = w1+w2+w3\n",
    "    # end TODO\n",
    "\n",
    "    return [w1, w2, w3, sum_waves]\n",
    "\n",
    "\n",
    "def demo_fft(sum_waves):\n",
    "    num_samples, spacing, _ = get_wave_timing()\n",
    "\n",
    "    # TODO create a Fast Fourier Transform of the waveform using scipy.fftpack.fft\n",
    "    # named 'y_fft'\n",
    "    y_fft = scipy.fftpack.fft(sum_waves)\n",
    "    # end TODO\n",
    "\n",
    "    x_fft = np.linspace(0.0, 1.0/spacing, num_samples)\n",
    "    return x_fft, y_fft"
   ]
  },
  {
   "cell_type": "markdown",
   "metadata": {},
   "source": [
    "### \\*test"
   ]
  },
  {
   "cell_type": "code",
   "execution_count": 20,
   "metadata": {
    "scrolled": true
   },
   "outputs": [
    {
     "name": "stdout",
     "output_type": "stream",
     "text": [
      "Help on function fft in module scipy.fftpack.basic:\n",
      "\n",
      "fft(x, n=None, axis=-1, overwrite_x=False)\n",
      "    Return discrete Fourier transform of real or complex sequence.\n",
      "    \n",
      "    The returned complex array contains ``y(0), y(1),..., y(n-1)`` where\n",
      "    \n",
      "    ``y(j) = (x * exp(-2*pi*sqrt(-1)*j*np.arange(n)/n)).sum()``.\n",
      "    \n",
      "    Parameters\n",
      "    ----------\n",
      "    x : array_like\n",
      "        Array to Fourier transform.\n",
      "    n : int, optional\n",
      "        Length of the Fourier transform.  If ``n < x.shape[axis]``, `x` is\n",
      "        truncated.  If ``n > x.shape[axis]``, `x` is zero-padded. The\n",
      "        default results in ``n = x.shape[axis]``.\n",
      "    axis : int, optional\n",
      "        Axis along which the fft's are computed; the default is over the\n",
      "        last axis (i.e., ``axis=-1``).\n",
      "    overwrite_x : bool, optional\n",
      "        If True, the contents of `x` can be destroyed; the default is False.\n",
      "    \n",
      "    Returns\n",
      "    -------\n",
      "    z : complex ndarray\n",
      "        with the elements::\n",
      "    \n",
      "            [y(0),y(1),..,y(n/2),y(1-n/2),...,y(-1)]        if n is even\n",
      "            [y(0),y(1),..,y((n-1)/2),y(-(n-1)/2),...,y(-1)]  if n is odd\n",
      "    \n",
      "        where::\n",
      "    \n",
      "            y(j) = sum[k=0..n-1] x[k] * exp(-sqrt(-1)*j*k* 2*pi/n), j = 0..n-1\n",
      "    \n",
      "    See Also\n",
      "    --------\n",
      "    ifft : Inverse FFT\n",
      "    rfft : FFT of a real sequence\n",
      "    \n",
      "    Notes\n",
      "    -----\n",
      "    The packing of the result is \"standard\": If ``A = fft(a, n)``, then\n",
      "    ``A[0]`` contains the zero-frequency term, ``A[1:n/2]`` contains the\n",
      "    positive-frequency terms, and ``A[n/2:]`` contains the negative-frequency\n",
      "    terms, in order of decreasingly negative frequency. So for an 8-point\n",
      "    transform, the frequencies of the result are [0, 1, 2, 3, -4, -3, -2, -1].\n",
      "    To rearrange the fft output so that the zero-frequency component is\n",
      "    centered, like [-4, -3, -2, -1,  0,  1,  2,  3], use `fftshift`.\n",
      "    \n",
      "    Both single and double precision routines are implemented.  Half precision\n",
      "    inputs will be converted to single precision.  Non floating-point inputs\n",
      "    will be converted to double precision.  Long-double precision inputs are\n",
      "    not supported.\n",
      "    \n",
      "    This function is most efficient when `n` is a power of two, and least\n",
      "    efficient when `n` is prime.\n",
      "    \n",
      "    Note that if ``x`` is real-valued then ``A[j] == A[n-j].conjugate()``.\n",
      "    If ``x`` is real-valued and ``n`` is even then ``A[n/2]`` is real.\n",
      "    \n",
      "    If the data type of `x` is real, a \"real FFT\" algorithm is automatically\n",
      "    used, which roughly halves the computation time.  To increase efficiency\n",
      "    a little further, use `rfft`, which does the same calculation, but only\n",
      "    outputs half of the symmetrical spectrum.  If the data is both real and\n",
      "    symmetrical, the `dct` can again double the efficiency, by generating\n",
      "    half of the spectrum from half of the signal.\n",
      "    \n",
      "    Examples\n",
      "    --------\n",
      "    >>> from scipy.fftpack import fft, ifft\n",
      "    >>> x = np.arange(5)\n",
      "    >>> np.allclose(fft(ifft(x)), x, atol=1e-15)  # within numerical accuracy.\n",
      "    True\n",
      "\n"
     ]
    }
   ],
   "source": [
    "from scipy.fftpack import fft\n",
    "\n",
    "help(fft)"
   ]
  },
  {
   "cell_type": "markdown",
   "metadata": {},
   "source": [
    "## Test MFCC"
   ]
  },
  {
   "cell_type": "markdown",
   "metadata": {},
   "source": [
    "### 将 .wav 文化转换为 MFCC 特征的函数"
   ]
  },
  {
   "cell_type": "code",
   "execution_count": null,
   "metadata": {},
   "outputs": [],
   "source": [
    "from python_speech_features import mfcc\n",
    "import scipy.io.wavfile as wav\n",
    "\n",
    "\n",
    "def wav_to_mfcc(wav_filename, num_cepstrum):\n",
    "    \"\"\" extract MFCC features from a wav file\n",
    "\n",
    "    :param wav_filename: filename with .wav format\n",
    "    :param num_cepstrum: number of cepstrum to return\n",
    "    :return: MFCC features for wav file\n",
    "    \"\"\"\n",
    "\n",
    "    # TODO implement\n",
    "    raise NotImplementedError"
   ]
  },
  {
   "cell_type": "code",
   "execution_count": null,
   "metadata": {},
   "outputs": [],
   "source": []
  },
  {
   "cell_type": "code",
   "execution_count": null,
   "metadata": {},
   "outputs": [],
   "source": []
  },
  {
   "cell_type": "code",
   "execution_count": null,
   "metadata": {},
   "outputs": [],
   "source": []
  },
  {
   "cell_type": "code",
   "execution_count": null,
   "metadata": {},
   "outputs": [],
   "source": []
  },
  {
   "cell_type": "code",
   "execution_count": null,
   "metadata": {},
   "outputs": [],
   "source": []
  },
  {
   "cell_type": "code",
   "execution_count": null,
   "metadata": {},
   "outputs": [],
   "source": []
  },
  {
   "cell_type": "code",
   "execution_count": null,
   "metadata": {},
   "outputs": [],
   "source": []
  },
  {
   "cell_type": "code",
   "execution_count": null,
   "metadata": {},
   "outputs": [],
   "source": []
  },
  {
   "cell_type": "code",
   "execution_count": null,
   "metadata": {},
   "outputs": [],
   "source": []
  },
  {
   "cell_type": "code",
   "execution_count": null,
   "metadata": {},
   "outputs": [],
   "source": []
  },
  {
   "cell_type": "code",
   "execution_count": null,
   "metadata": {},
   "outputs": [],
   "source": []
  },
  {
   "cell_type": "code",
   "execution_count": null,
   "metadata": {},
   "outputs": [],
   "source": []
  },
  {
   "cell_type": "code",
   "execution_count": null,
   "metadata": {},
   "outputs": [],
   "source": []
  },
  {
   "cell_type": "code",
   "execution_count": null,
   "metadata": {},
   "outputs": [],
   "source": []
  },
  {
   "cell_type": "code",
   "execution_count": null,
   "metadata": {},
   "outputs": [],
   "source": []
  },
  {
   "cell_type": "code",
   "execution_count": null,
   "metadata": {},
   "outputs": [],
   "source": []
  }
 ],
 "metadata": {
  "kernelspec": {
   "display_name": "Python 3",
   "language": "python",
   "name": "python3"
  },
  "language_info": {
   "codemirror_mode": {
    "name": "ipython",
    "version": 3
   },
   "file_extension": ".py",
   "mimetype": "text/x-python",
   "name": "python",
   "nbconvert_exporter": "python",
   "pygments_lexer": "ipython3",
   "version": "3.7.0"
  },
  "toc": {
   "base_numbering": 1,
   "nav_menu": {},
   "number_sections": true,
   "sideBar": true,
   "skip_h1_title": false,
   "title_cell": "Table of Contents",
   "title_sidebar": "Contents",
   "toc_cell": false,
   "toc_position": {},
   "toc_section_display": true,
   "toc_window_display": true
  }
 },
 "nbformat": 4,
 "nbformat_minor": 2
}
