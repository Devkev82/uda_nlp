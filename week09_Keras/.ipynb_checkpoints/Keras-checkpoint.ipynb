{
 "cells": [
  {
   "cell_type": "markdown",
   "metadata": {},
   "source": [
    "```python\n",
    "from keras.layers.core import *             # '*' mean corresponding 'Func'\n",
    "```\n",
    "\n",
    "| Name | Func | Sample | Appl-Func |\n",
    "| --- | --- | --- | --- |\n",
    "| 全连接层 | Dense(OutputSize, input_dim=InputSize) | Dense(128, input_dim=32) | model.add() | \n",
    "| 激活层 | Activation('ActFuncName') | Activation('softmax') | model.add() |"
   ]
  },
  {
   "cell_type": "markdown",
   "metadata": {},
   "source": [
    "# 一般流程"
   ]
  },
  {
   "cell_type": "markdown",
   "metadata": {},
   "source": [
    "## 序列模型"
   ]
  },
  {
   "cell_type": "code",
   "execution_count": 1,
   "metadata": {},
   "outputs": [
    {
     "name": "stderr",
     "output_type": "stream",
     "text": [
      "Using TensorFlow backend.\n"
     ]
    }
   ],
   "source": [
    "from keras.models import Sequential\n",
    "\n",
    "#Create the Sequential model\n",
    "model = Sequential()"
   ]
  },
  {
   "cell_type": "markdown",
   "metadata": {},
   "source": [
    "## 层"
   ]
  },
  {
   "cell_type": "code",
   "execution_count": 2,
   "metadata": {},
   "outputs": [
    {
     "name": "stdout",
     "output_type": "stream",
     "text": [
      "WARNING:tensorflow:From D:\\setup_space_all\\anaconda\\lib\\site-packages\\tensorflow\\python\\framework\\op_def_library.py:263: colocate_with (from tensorflow.python.framework.ops) is deprecated and will be removed in a future version.\n",
      "Instructions for updating:\n",
      "Colocations handled automatically by placer.\n"
     ]
    }
   ],
   "source": [
    "from keras.models import Sequential\n",
    "from keras.layers.core import Dense, Activation, Flatten\n",
    "\n",
    "#创建序列模型\n",
    "model = Sequential()\n",
    "\n",
    "#第一层 - 添加有128个节点的全连接层以及32个节点的输入层（只需设置一次输入维度）\n",
    "model.add(Dense(128, input_dim=32))\n",
    "\n",
    "#第二层 - 添加 softmax 激活层\n",
    "model.add(Activation('softmax'))\n",
    "\n",
    "#第三层 - 添加全连接层\n",
    "model.add(Dense(10))\n",
    "\n",
    "#第四层 - 添加 Sigmoid 激活层\n",
    "model.add(Activation('sigmoid'))"
   ]
  },
  {
   "cell_type": "markdown",
   "metadata": {},
   "source": [
    "## 编译（并指定loss、优化程序、评判标准）"
   ]
  },
  {
   "cell_type": "code",
   "execution_count": 3,
   "metadata": {},
   "outputs": [],
   "source": [
    "model.compile(loss=\"categorical_crossentropy\", optimizer=\"adam\", metrics = ['accuracy'])"
   ]
  },
  {
   "cell_type": "markdown",
   "metadata": {},
   "source": [
    "## 查看架构"
   ]
  },
  {
   "cell_type": "code",
   "execution_count": 4,
   "metadata": {},
   "outputs": [
    {
     "name": "stdout",
     "output_type": "stream",
     "text": [
      "_________________________________________________________________\n",
      "Layer (type)                 Output Shape              Param #   \n",
      "=================================================================\n",
      "dense_1 (Dense)              (None, 128)               4224      \n",
      "_________________________________________________________________\n",
      "activation_1 (Activation)    (None, 128)               0         \n",
      "_________________________________________________________________\n",
      "dense_2 (Dense)              (None, 10)                1290      \n",
      "_________________________________________________________________\n",
      "activation_2 (Activation)    (None, 10)                0         \n",
      "=================================================================\n",
      "Total params: 5,514\n",
      "Trainable params: 5,514\n",
      "Non-trainable params: 0\n",
      "_________________________________________________________________\n"
     ]
    }
   ],
   "source": [
    "model.summary()"
   ]
  },
  {
   "cell_type": "markdown",
   "metadata": {},
   "source": [
    "## 训练（并指定epoch、显示训练过程信息类型）"
   ]
  },
  {
   "cell_type": "markdown",
   "metadata": {},
   "source": [
    "```python\n",
    "model.fit(X, y, nb_epoch=1000, verbose=0)\n",
    "```"
   ]
  },
  {
   "cell_type": "markdown",
   "metadata": {},
   "source": [
    "## 评估模型"
   ]
  },
  {
   "cell_type": "markdown",
   "metadata": {},
   "source": [
    "```python\n",
    "model.evaluate()\n",
    "```"
   ]
  },
  {
   "cell_type": "markdown",
   "metadata": {},
   "source": [
    "# XOR练习"
   ]
  },
  {
   "cell_type": "code",
   "execution_count": 5,
   "metadata": {},
   "outputs": [
    {
     "name": "stdout",
     "output_type": "stream",
     "text": [
      "_________________________________________________________________\n",
      "Layer (type)                 Output Shape              Param #   \n",
      "=================================================================\n",
      "dense_3 (Dense)              (None, 32)                96        \n",
      "_________________________________________________________________\n",
      "dense_4 (Dense)              (None, 8)                 264       \n",
      "_________________________________________________________________\n",
      "activation_3 (Activation)    (None, 8)                 0         \n",
      "_________________________________________________________________\n",
      "dense_5 (Dense)              (None, 2)                 18        \n",
      "_________________________________________________________________\n",
      "activation_4 (Activation)    (None, 2)                 0         \n",
      "=================================================================\n",
      "Total params: 378\n",
      "Trainable params: 378\n",
      "Non-trainable params: 0\n",
      "_________________________________________________________________\n",
      "WARNING:tensorflow:From D:\\setup_space_all\\anaconda\\lib\\site-packages\\tensorflow\\python\\ops\\math_ops.py:3066: to_int32 (from tensorflow.python.ops.math_ops) is deprecated and will be removed in a future version.\n",
      "Instructions for updating:\n",
      "Use tf.cast instead.\n",
      "4/4 [==============================] - 0s 15ms/step\n",
      "\n",
      "Accuracy:  1.0\n",
      "\n",
      "Predictions:\n",
      "[[0.49689212 0.42829862]\n",
      " [0.19359669 0.5203181 ]\n",
      " [0.1375274  0.5594941 ]\n",
      " [0.3411234  0.19466126]]\n"
     ]
    }
   ],
   "source": [
    "import numpy as np\n",
    "from keras.utils import np_utils\n",
    "import tensorflow as tf\n",
    "# Using TensorFlow 1.0.0; use tf.python_io in later versions\n",
    "# tf.python.control_flow_ops = tf\n",
    "\n",
    "# Set random seed\n",
    "np.random.seed(42)\n",
    "\n",
    "# Our data\n",
    "X = np.array([[0,0],[0,1],[1,0],[1,1]]).astype('float32')\n",
    "y = np.array([[0],[1],[1],[0]]).astype('float32')\n",
    "\n",
    "# Initial Setup for Keras\n",
    "from keras.models import Sequential\n",
    "from keras.layers.core import Dense, Activation\n",
    "\n",
    "# One-hot encoding the output(to categorical data)\n",
    "y = np_utils.to_categorical(y)\n",
    "\n",
    "# Building the model\n",
    "xor = Sequential()\n",
    "\n",
    "# Add required layers\n",
    "xor.add(Dense(32, input_dim=2))\n",
    "xor.add(Dense(8))\n",
    "xor.add(Activation('relu'))\n",
    "xor.add(Dense(2))\n",
    "xor.add(Activation('sigmoid'))\n",
    "\n",
    "# Specify loss as \"binary_crossentropy\", optimizer as \"adam\",\n",
    "# and add the accuracy metric\n",
    "xor.compile(loss=\"categorical_crossentropy\", optimizer=\"adam\", metrics = ['accuracy'])\n",
    "\n",
    "# Uncomment this line to print the model architecture\n",
    "xor.summary()\n",
    "\n",
    "# Fitting the model\n",
    "history = xor.fit(X, y, epochs=100, verbose=0)\n",
    "\n",
    "# Scoring the model\n",
    "score = xor.evaluate(X, y)\n",
    "print(\"\\nAccuracy: \", score[-1])\n",
    "\n",
    "# Checking the predictions\n",
    "print(\"\\nPredictions:\")\n",
    "print(xor.predict_proba(X))"
   ]
  },
  {
   "cell_type": "markdown",
   "metadata": {},
   "source": [
    "# 录取学生LAB\n",
    "- 加州大学洛杉矶分校的学生录取数据集\n",
    "```\n",
    "read.csv(\"https://stats.idre.ucla.edu/stat/data/binary.csv\")\n",
    "```"
   ]
  },
  {
   "cell_type": "markdown",
   "metadata": {},
   "source": [
    "## 研究数据\n",
    "数据集包含以下列：\n",
    "\n",
    "- 学生 GPA（成绩）\n",
    "- GRE 考试成绩（考试）\n",
    "- 级别（1-4）"
   ]
  },
  {
   "cell_type": "code",
   "execution_count": 7,
   "metadata": {},
   "outputs": [],
   "source": [
    "## *另见 `student_admission.ipynb` 文件*"
   ]
  },
  {
   "cell_type": "markdown",
   "metadata": {},
   "source": [
    "# 优化程序\n",
    "- [optimizer, keras](https://keras.io/optimizers/)   \n",
    "- [An overview of gradient descent optimization algorithms](http://ruder.io/optimizing-gradient-descent/index.html#rmsprop)"
   ]
  },
  {
   "cell_type": "markdown",
   "metadata": {},
   "source": [
    "- SGD：这是`随机梯度下降`。它使用了以下参数：\n",
    "    - 学习速率。\n",
    "    - 动量（获取前几步的加权平均值，以便获得动量而不至于陷在局部最低点）。\n",
    "    - Nesterov 动量（当最接近解决方案时，它会减缓梯度）。\n",
    "    \n",
    "- Adam(`Adaptive Moment Estimation`) 使用更复杂的指数衰减，不仅仅会考虑平均值（第一个动量），并且会考虑 __前几步的方差（第二个动量）__ \n",
    "\n",
    "- RMSProp (`RMS 表示均方根误差`）通过除以按指数衰减的平方梯度均值来减小学习速率。"
   ]
  },
  {
   "cell_type": "markdown",
   "metadata": {},
   "source": [
    "# IMDb评论情感预测\n",
    "- 本实验使用一个包含 `25,000` 条 IMDB评论的数据集。 \n",
    "    - 每个评论都附带一个标签。 负面评论的标签为 `0` ，正面评论的标签为 `1` 。 \n",
    "- 每个评论被编码为 __一系列索引__ ，对应于评论中的单词。 词<font color=blue>按频率排序</font>。\n",
    "    - 整数 `1` 对应于最频繁的词（“the”）\n",
    "    - 整数 `2` 对应于第二频繁的词。\n",
    "    - （按照惯例）整数 `0` 对应于未知词。"
   ]
  },
  {
   "cell_type": "markdown",
   "metadata": {},
   "source": [
    "## 加载数据\n",
    "- [IMDB movie data review](https://keras.io/datasets/#imdb-movie-reviews-sentiment-classification)"
   ]
  },
  {
   "cell_type": "code",
   "execution_count": 9,
   "metadata": {},
   "outputs": [],
   "source": [
    "from keras.datasets import imdb"
   ]
  },
  {
   "cell_type": "code",
   "execution_count": 10,
   "metadata": {},
   "outputs": [],
   "source": [
    "(x_train, y_train), (x_test, y_test) = imdb.load_data(path=\"imdb.npz\",       # download data if no data locally\n",
    "                                                     num_words=None,         # top most frequent words to consider\n",
    "                                                     skip_top=0,             # top most frequent words to ignore \n",
    "                                                     maxlen=None,            # maximum sequence length\n",
    "                                                     seed=113,               # seed for reproducible data shuffling.\n",
    "                                                     start_char=1,           # the start of a sequence will be marked with this character\n",
    "                                                     oov_char=2,             # words will be replaced\n",
    "                                                     index_from=3)           # index actual words with this index and higher"
   ]
  },
  {
   "cell_type": "markdown",
   "metadata": {},
   "source": [
    "## 数据预处理"
   ]
  },
  {
   "cell_type": "markdown",
   "metadata": {},
   "source": [
    "- 首先将数据编码为 __(0,1) - 向量__ ，编码如下：\n",
    "    - 例如，如果我们的词汇量为10个词，向量为 `(4,1,8)` ，我们将它变成矢量 `(1,0,0,1,0,0,0,1,0,0)`"
   ]
  },
  {
   "cell_type": "markdown",
   "metadata": {},
   "source": [
    "## 建立模型"
   ]
  },
  {
   "cell_type": "code",
   "execution_count": 11,
   "metadata": {},
   "outputs": [],
   "source": [
    "# 使用 Keras 建立一个神经网络，对它进行训练并评估"
   ]
  },
  {
   "cell_type": "code",
   "execution_count": null,
   "metadata": {},
   "outputs": [],
   "source": [
    "## *另见 `imdb_comments.ipynb` 文件*"
   ]
  }
 ],
 "metadata": {
  "kernelspec": {
   "display_name": "Python 3",
   "language": "python",
   "name": "python3"
  },
  "language_info": {
   "codemirror_mode": {
    "name": "ipython",
    "version": 3
   },
   "file_extension": ".py",
   "mimetype": "text/x-python",
   "name": "python",
   "nbconvert_exporter": "python",
   "pygments_lexer": "ipython3",
   "version": "3.7.1"
  },
  "toc": {
   "base_numbering": 1,
   "nav_menu": {},
   "number_sections": true,
   "sideBar": true,
   "skip_h1_title": false,
   "title_cell": "Table of Contents",
   "title_sidebar": "Contents",
   "toc_cell": false,
   "toc_position": {
    "height": "calc(100% - 180px)",
    "left": "10px",
    "top": "150px",
    "width": "312px"
   },
   "toc_section_display": true,
   "toc_window_display": true
  }
 },
 "nbformat": 4,
 "nbformat_minor": 2
}
