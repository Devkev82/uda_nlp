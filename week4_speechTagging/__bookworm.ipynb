{
 "cells": [
  {
   "cell_type": "markdown",
   "metadata": {},
   "source": [
    "- __学习目标__            \n",
    "完成此项目后，你将学会如何：\n",
    "\n",
    "- 创建基于云的自然语言处理服务实例并配置该实例。   \n",
    "- 使用该服务从一组文档中提取信息，并分析结果。   \n",
    "- 接受用自然语言提出的问题并解析这些问题。    \n",
    "- 从预处理的文本数据中查找相关答案。   "
   ]
  },
  {
   "cell_type": "markdown",
   "metadata": {},
   "source": [
    "## 开始\n",
    "\n",
    "为了使用 Watson 的云端服务，首先需要在 [IBM Bluemix 平台](https://console.ng.bluemix.net/)上创建一个帐户。\n",
    "\n",
    "然后，对于要使用的每个服务，你都需要创建该服务的一个实例。你可以继续完成下面的任务，并根据提示创建一个服务实例。\n",
    "\n",
    "### 创建并配置 Discovery 服务\n",
    "\n",
    "创建一个 **Discovery** 服务实例。你将使用该实例处理一组文档，并_发现_相关事实和关系。\n",
    "\n",
    "- 转到 [IBM Bluemix 类别](https://console.ng.bluemix.net/catalog/?taxonomyNavigation=services&category=watson)。\n",
    "- 在 **Watson** 类别下选择所需的 **Discovery** 服务。\n",
    "- 为该实例输入一个服务名称，例如 **Disco1**，并输入凭据名称，例如 **Disco1-Creds**（只是为了稍后参考，并不影响服务的功能）。\n",
    "- 你应该能够在[服务信息中心](https://console.ng.bluemix.net/dashboard/services)看到新建的服务。\n",
    "- 打开服务实例，点击 **Service credentials** 标签，然后点击 Actions 下的 **View credentials**。你将在这里找到连接服务时将使用的用户名和密码。\n",
    "\n",
    "\n",
    "请记住 Discovery 服务的凭据，因为我们马上就要用到。\n",
    "\n",
    "稍后在为 Assistant 服务创建实例时，需要填写该服务。注意对这些凭据保密。请勿在提交项目时提交这些凭据！\n",
    "\n",
    "### 连接到服务实例\n",
    "\n",
    "我们使用 IBM Watson 的 [Python SDK](https://github.com/watson-developer-cloud/python-sdk) 连接到刚刚创建的服务实例。你首先需要安装该 SDK："
   ]
  },
  {
   "cell_type": "code",
   "execution_count": 5,
   "metadata": {},
   "outputs": [
    {
     "name": "stdout",
     "output_type": "stream",
     "text": [
      "Collecting watson-developer-cloud\n",
      "  Downloading https://files.pythonhosted.org/packages/fc/a5/a89fc49bd82eb6ea569e45b43383c28cd51b5076f43010dcc3331c137ff5/watson-developer-cloud-2.10.1.tar.gz (248kB)\n",
      "Requirement already satisfied: requests<3.0,>=2.0 in d:\\setup_space_all\\anaconda\\lib\\site-packages (from watson-developer-cloud) (2.21.0)\n",
      "Requirement already satisfied: python_dateutil>=2.5.3 in d:\\setup_space_all\\anaconda\\lib\\site-packages (from watson-developer-cloud) (2.7.5)\n",
      "Collecting websocket-client==0.48.0 (from watson-developer-cloud)\n",
      "  Downloading https://files.pythonhosted.org/packages/8a/a1/72ef9aa26cfe1a75cee09fc1957e4723add9de098c15719416a1ee89386b/websocket_client-0.48.0-py2.py3-none-any.whl (198kB)\n",
      "Requirement already satisfied: idna<2.9,>=2.5 in d:\\setup_space_all\\anaconda\\lib\\site-packages (from requests<3.0,>=2.0->watson-developer-cloud) (2.8)\n",
      "Requirement already satisfied: certifi>=2017.4.17 in d:\\setup_space_all\\anaconda\\lib\\site-packages (from requests<3.0,>=2.0->watson-developer-cloud) (2018.11.29)\n",
      "Requirement already satisfied: urllib3<1.25,>=1.21.1 in d:\\setup_space_all\\anaconda\\lib\\site-packages (from requests<3.0,>=2.0->watson-developer-cloud) (1.24.1)\n",
      "Requirement already satisfied: chardet<3.1.0,>=3.0.2 in d:\\setup_space_all\\anaconda\\lib\\site-packages (from requests<3.0,>=2.0->watson-developer-cloud) (3.0.4)\n",
      "Requirement already satisfied: six>=1.5 in d:\\setup_space_all\\anaconda\\lib\\site-packages (from python_dateutil>=2.5.3->watson-developer-cloud) (1.12.0)\n",
      "Building wheels for collected packages: watson-developer-cloud\n",
      "  Running setup.py bdist_wheel for watson-developer-cloud: started\n",
      "  Running setup.py bdist_wheel for watson-developer-cloud: finished with status 'done'\n",
      "  Stored in directory: C:\\Users\\Administrator\\AppData\\Local\\pip\\Cache\\wheels\\ea\\a7\\19\\fac0a408a586265eb374005308a7553d4494ab41b2fd88f5bc\n",
      "Successfully built watson-developer-cloud\n",
      "Installing collected packages: websocket-client, watson-developer-cloud\n",
      "Successfully installed watson-developer-cloud-2.10.1 websocket-client-0.48.0\n"
     ]
    }
   ],
   "source": [
    "!pip install watson-developer-cloud"
   ]
  },
  {
   "cell_type": "code",
   "execution_count": 11,
   "metadata": {},
   "outputs": [
    {
     "name": "stdout",
     "output_type": "stream",
     "text": [
      "Requirement already up-to-date: watson-developer-cloud>=2.4.1 in d:\\setup_space_all\\anaconda\\lib\\site-packages (2.10.1)\n",
      "Requirement already satisfied, skipping upgrade: websocket-client==0.48.0 in d:\\setup_space_all\\anaconda\\lib\\site-packages (from watson-developer-cloud>=2.4.1) (0.48.0)\n",
      "Requirement already satisfied, skipping upgrade: requests<3.0,>=2.0 in d:\\setup_space_all\\anaconda\\lib\\site-packages (from watson-developer-cloud>=2.4.1) (2.21.0)\n",
      "Requirement already satisfied, skipping upgrade: python-dateutil>=2.5.3 in d:\\setup_space_all\\anaconda\\lib\\site-packages (from watson-developer-cloud>=2.4.1) (2.7.5)\n",
      "Requirement already satisfied, skipping upgrade: six in d:\\setup_space_all\\anaconda\\lib\\site-packages (from websocket-client==0.48.0->watson-developer-cloud>=2.4.1) (1.12.0)\n",
      "Requirement already satisfied, skipping upgrade: idna<2.9,>=2.5 in d:\\setup_space_all\\anaconda\\lib\\site-packages (from requests<3.0,>=2.0->watson-developer-cloud>=2.4.1) (2.8)\n",
      "Requirement already satisfied, skipping upgrade: chardet<3.1.0,>=3.0.2 in d:\\setup_space_all\\anaconda\\lib\\site-packages (from requests<3.0,>=2.0->watson-developer-cloud>=2.4.1) (3.0.4)\n",
      "Requirement already satisfied, skipping upgrade: urllib3<1.25,>=1.21.1 in d:\\setup_space_all\\anaconda\\lib\\site-packages (from requests<3.0,>=2.0->watson-developer-cloud>=2.4.1) (1.24.1)\n",
      "Requirement already satisfied, skipping upgrade: certifi>=2017.4.17 in d:\\setup_space_all\\anaconda\\lib\\site-packages (from requests<3.0,>=2.0->watson-developer-cloud>=2.4.1) (2018.11.29)\n"
     ]
    }
   ],
   "source": [
    "# Install watson-developer-cloud\n",
    "# This takes about a minute\n",
    "\n",
    "!pip install --upgrade \"watson-developer-cloud>=2.4.1\""
   ]
  },
  {
   "cell_type": "markdown",
   "metadata": {},
   "source": [
    "### 模块导入"
   ]
  },
  {
   "cell_type": "code",
   "execution_count": 8,
   "metadata": {},
   "outputs": [
    {
     "name": "stdout",
     "output_type": "stream",
     "text": [
      "Collecting helper\n",
      "  Downloading https://files.pythonhosted.org/packages/be/27/80bdb3e3bd9808db34ef38b332e984ba955a09d896231ef2ca62564cb6f9/helper-2.4.2-py2.py3-none-any.whl\n",
      "Requirement already satisfied: pyyaml in d:\\setup_space_all\\anaconda\\lib\\site-packages (from helper) (3.13)\n",
      "Installing collected packages: helper\n",
      "Successfully installed helper-2.4.2\n"
     ]
    }
   ],
   "source": [
    "!pip install helper"
   ]
  },
  {
   "cell_type": "code",
   "execution_count": 12,
   "metadata": {},
   "outputs": [],
   "source": [
    "# Usual Python imports\n",
    "import sys\n",
    "import os\n",
    "import glob\n",
    "import json\n",
    "\n",
    "# BeautifulSoup, for parsing HTML\n",
    "from bs4 import BeautifulSoup\n",
    "\n",
    "# Matplotlib, for plotting\n",
    "import matplotlib.pyplot as plt\n",
    "%matplotlib inline\n",
    "\n",
    "# Watson Python SDK\n",
    "# If not installed run: \n",
    "# !pip install --upgrade watson-developer-cloud\n",
    "import watson_developer_cloud\n",
    "\n",
    "# Utility functions\n",
    "%load_ext autoreload\n",
    "%aimport helper\n",
    "%autoreload 1"
   ]
  },
  {
   "cell_type": "code",
   "execution_count": 16,
   "metadata": {},
   "outputs": [
    {
     "name": "stderr",
     "output_type": "stream",
     "text": [
      "D:\\setup_space_all\\anaconda\\lib\\site-packages\\ipykernel_launcher.py:10: DeprecationWarning: watson-developer-cloud moved to ibm-watson. To get updates, use the new package.\n",
      "  # Remove the CWD from sys.path while we load stuff.\n"
     ]
    }
   ],
   "source": [
    "# Connect to the Discovery service instance\n",
    "# TODO: Ensure that your username and password from the Service Credentials tab are in service-credentials.json\n",
    "# Note that these credentials are different from your IBM Bluemix login, and are specific to the service instance\n",
    "\n",
    "# discovery_creds = helper.fetch_credentials('discovery')\n",
    "\n"
   ]
  },
  {
   "cell_type": "markdown",
   "metadata": {},
   "source": [
    "### 创建环境"
   ]
  },
  {
   "cell_type": "code",
   "execution_count": 15,
   "metadata": {},
   "outputs": [
    {
     "ename": "AttributeError",
     "evalue": "module 'helper' has no attribute 'fetch_object'",
     "output_type": "error",
     "traceback": [
      "\u001b[1;31m---------------------------------------------------------------------------\u001b[0m",
      "\u001b[1;31mAttributeError\u001b[0m                            Traceback (most recent call last)",
      "\u001b[1;32m<ipython-input-15-ca648e7bfdec>\u001b[0m in \u001b[0;36m<module>\u001b[1;34m\u001b[0m\n\u001b[0;32m      1\u001b[0m \u001b[1;31m# Prepare an environment to work in\u001b[0m\u001b[1;33m\u001b[0m\u001b[1;33m\u001b[0m\u001b[1;33m\u001b[0m\u001b[0m\n\u001b[1;32m----> 2\u001b[1;33m env, env_id = helper.fetch_object(\n\u001b[0m\u001b[0;32m      3\u001b[0m     \u001b[0mdiscovery\u001b[0m\u001b[1;33m,\u001b[0m \u001b[1;34m\"environment\"\u001b[0m\u001b[1;33m,\u001b[0m \u001b[1;34m\"Bookworm\"\u001b[0m\u001b[1;33m,\u001b[0m\u001b[1;33m\u001b[0m\u001b[1;33m\u001b[0m\u001b[0m\n\u001b[0;32m      4\u001b[0m     create=True, create_args=dict(\n\u001b[0;32m      5\u001b[0m         \u001b[0mdescription\u001b[0m\u001b[1;33m=\u001b[0m\u001b[1;34m\"A space to read and understand stories\"\u001b[0m  \u001b[1;31m# feel free to edit\u001b[0m\u001b[1;33m\u001b[0m\u001b[1;33m\u001b[0m\u001b[0m\n",
      "\u001b[1;31mAttributeError\u001b[0m: module 'helper' has no attribute 'fetch_object'"
     ]
    }
   ],
   "source": [
    "# Prepare an environment to work in\n",
    "env, env_id = helper.fetch_object(\n",
    "    discovery, \"environment\", \"Bookworm\",\n",
    "    create=True, create_args=dict(\n",
    "        description=\"A space to read and understand stories\"  # feel free to edit\n",
    "    ))\n",
    "print(json.dumps(env, indent=2))"
   ]
  },
  {
   "cell_type": "code",
   "execution_count": null,
   "metadata": {},
   "outputs": [],
   "source": []
  }
 ],
 "metadata": {
  "kernelspec": {
   "display_name": "Python 3",
   "language": "python",
   "name": "python3"
  },
  "language_info": {
   "codemirror_mode": {
    "name": "ipython",
    "version": 3
   },
   "file_extension": ".py",
   "mimetype": "text/x-python",
   "name": "python",
   "nbconvert_exporter": "python",
   "pygments_lexer": "ipython3",
   "version": "3.7.1"
  },
  "toc": {
   "base_numbering": 1,
   "nav_menu": {},
   "number_sections": true,
   "sideBar": true,
   "skip_h1_title": false,
   "title_cell": "Table of Contents",
   "title_sidebar": "Contents",
   "toc_cell": false,
   "toc_position": {},
   "toc_section_display": true,
   "toc_window_display": true
  }
 },
 "nbformat": 4,
 "nbformat_minor": 2
}
