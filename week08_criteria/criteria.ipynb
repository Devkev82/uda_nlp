{
 "cells": [
  {
   "cell_type": "markdown",
   "metadata": {},
   "source": [
    "<img src=\"./ROC-AUC.jpg\" width=300px>"
   ]
  },
  {
   "cell_type": "markdown",
   "metadata": {},
   "source": [
    "### ROC曲线\n",
    "- [详解ROC计算过程](https://blog.csdn.net/ybdesire/article/details/51999995)"
   ]
  },
  {
   "cell_type": "code",
   "execution_count": 20,
   "metadata": {},
   "outputs": [],
   "source": [
    "import numpy as np\n",
    " \n",
    "from sklearn.metrics import roc_curve                         # ROC curve\n",
    "\n",
    "import matplotlib.pyplot as plt"
   ]
  },
  {
   "cell_type": "code",
   "execution_count": 21,
   "metadata": {},
   "outputs": [],
   "source": [
    "#############计算fpr,tpr##################\n",
    "##y是一个一维数组（样本的真实分类），数组值表示类别（一共有两类，1和2），人工标注，属于测试集的真实分类\n",
    "##score即各个样本属于正例的概率；是网络的输出；首先用训练集训练网络，然后利用测试集的数据产生的\n",
    "##fpr, tpr是ROC的横纵坐标\n",
    "##thresholds是截断阈值\n",
    "y = np.array([1, 1, 2, 2])\n",
    "scores = np.array([0.1, 0.4, 0.35, 0.8])\n",
    "fpr, tpr, thresholds = roc_curve(y, scores, pos_label=2)"
   ]
  },
  {
   "cell_type": "code",
   "execution_count": 22,
   "metadata": {},
   "outputs": [
    {
     "data": {
      "image/png": "[encoded data removed]",
      "text/plain": [
       "<Figure size 432x288 with 1 Axes>"
      ]
     },
     "metadata": {
      "needs_background": "light"
     },
     "output_type": "display_data"
    }
   ],
   "source": [
    "#############画图##################\n",
    "plt.title('ROC')\n",
    "plt.xlabel('False Positive Rate')\n",
    "plt.ylabel('True Positive Rate')\n",
    "plt.plot(fpr, tpr,'--*b',label=\"tuli\")\n",
    "plt.legend()\n",
    "plt.show()"
   ]
  },
  {
   "cell_type": "markdown",
   "metadata": {},
   "source": [
    "### AUC计算"
   ]
  },
  {
   "cell_type": "code",
   "execution_count": 23,
   "metadata": {},
   "outputs": [],
   "source": [
    "from sklearn.metrics import roc_auc_score                        # AUC score function"
   ]
  },
  {
   "cell_type": "markdown",
   "metadata": {},
   "source": [
    "#### 方法一\n",
    "$$AUC=P(P_{pos}>P_{neg})(相等则为0.5)$$"
   ]
  },
  {
   "cell_type": "markdown",
   "metadata": {},
   "source": [
    "1.数据一共有2（pos）\\*2（neg）个样本对（pos，neg）:`（D,B）,（D,A）,(C,B),（C,A）`   \n",
    "\n",
    "|ID|label|pro|   \n",
    "|-|-|-| \n",
    "|A|0|0.1|\n",
    "|B|0|0.4|\n",
    "|C|1|0.35|\n",
    "|D|1|0.8|\n",
    "\n",
    "2.在`（D,B）`样本对中，正样本D预测的概率大于负样本B预测的概率（也就是D的得分比B高），记为1        \n",
    "3.以此类推，$AUC=\\frac{1+1+0+1}{4}=0.75$\n",
    "\n",
    "|pairs|front|back| result|   \n",
    "|-|-|-|-| \n",
    "|（D,B）|0.8|0.4| 1|\n",
    "|（D,A）|0.8|0.1| 1|\n",
    "|（C,B）|0.35|0.4| 0|\n",
    "|（C,A）|0.35|0.1| 1|"
   ]
  },
  {
   "cell_type": "markdown",
   "metadata": {},
   "source": [
    "#### 方法二\n",
    "$$AUC=\\frac{\\sum_{ins_i\\in positiveclass}rank_{ins_i}-\\frac{M(M+1)}{2}}{M*N}$$"
   ]
  },
  {
   "cell_type": "markdown",
   "metadata": {},
   "source": [
    "1.数据一共有M * N(2(pos) * 2(neg)):    \n",
    "\n",
    "|ID|label|pro|   \n",
    "|-|-|-| \n",
    "|A|0|0.1|\n",
    "|B|0|0.4|\n",
    "|C|1|0.35|\n",
    "|D|1|0.8|\n",
    "\n",
    "2.对概率排序（ `pro` 由小到大）  \n",
    "\n",
    "|ID|label|pro|rank|\n",
    "|-|-|-|-|\n",
    "|A|0|0.1|1|\n",
    "|C|1|0.35|2|\n",
    "|B|0|0.4|3|\n",
    "|D|1|0.8|4|\n",
    "\n",
    "3.以此例子，把所有正样本的 `rank值` 加起来减去常数项 $\\frac{M(M+1)}{2}$   \n",
    "即： $\\frac{(4+2)-\\frac{2*(2+1)}{2}}{2*2}=\\frac{6-3}{4}=0.75$\n",
    "\n",
    "\\*.相等概率得分的样本 `统一把相同概率的正样本rank值加起来除以相同概率样本数`   \n",
    "\n",
    "|ID|label|pro|rank|\n",
    "|-|-|-|-|\n",
    "|F|1|0.5|2|\n",
    "|E|1|0.5|3|\n",
    "|D|0|0.5|4|\n",
    "|C|0|0.5|5|\n",
    "\n",
    "$$rank_F=rangk_E=\\frac{5+4+3+2}{4}$$"
   ]
  },
  {
   "cell_type": "markdown",
   "metadata": {},
   "source": [
    "#### 运算"
   ]
  },
  {
   "cell_type": "code",
   "execution_count": 18,
   "metadata": {},
   "outputs": [
    {
     "name": "stdout",
     "output_type": "stream",
     "text": [
      "y_true is  [1 1 0 0 1 1 0]\n",
      "y_scores is  [0.8 0.7 0.5 0.5 0.5 0.5 0.3]\n",
      "AUC is 0.8333333333333334\n",
      "y_true is  [0 0 1 1]\n",
      "y_scores is  [0.1  0.4  0.35 0.8 ]\n",
      "AUC is  0.75\n"
     ]
    }
   ],
   "source": [
    "y_true = np.array([1,1,0,0,1,1,0])\n",
    "y_scores = np.array([0.8,0.7,0.5,0.5,0.5,0.5,0.3])\n",
    "print (\"y_true is \",y_true)\n",
    "print (\"y_scores is \",y_scores)\n",
    "print (\"AUC is\",roc_auc_score(y_true, y_scores))\n",
    " \n",
    " \n",
    "y_true = np.array([0, 0, 1, 1])\n",
    "y_scores = np.array([0.1, 0.4, 0.35, 0.8])\n",
    "print (\"y_true is \",y_true)\n",
    "print (\"y_scores is \",y_scores)\n",
    "print (\"AUC is \",roc_auc_score(y_true, y_scores))"
   ]
  },
  {
   "cell_type": "markdown",
   "metadata": {},
   "source": [
    "__END__"
   ]
  }
 ],
 "metadata": {
  "kernelspec": {
   "display_name": "Python 3",
   "language": "python",
   "name": "python3"
  },
  "language_info": {
   "codemirror_mode": {
    "name": "ipython",
    "version": 3
   },
   "file_extension": ".py",
   "mimetype": "text/x-python",
   "name": "python",
   "nbconvert_exporter": "python",
   "pygments_lexer": "ipython3",
   "version": "3.7.1"
  },
  "toc": {
   "base_numbering": 1,
   "nav_menu": {},
   "number_sections": true,
   "sideBar": true,
   "skip_h1_title": false,
   "title_cell": "Table of Contents",
   "title_sidebar": "Contents",
   "toc_cell": false,
   "toc_position": {},
   "toc_section_display": true,
   "toc_window_display": true
  }
 },
 "nbformat": 4,
 "nbformat_minor": 2
}
