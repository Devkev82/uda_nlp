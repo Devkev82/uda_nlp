{
 "cells": [
  {
   "cell_type": "markdown",
   "metadata": {},
   "source": [
    "# 利用神经网络的 Kera 预测学生录取情况\n",
    "\n",
    "在该 notebook 中，我们基于以下三条数据预测了加州大学洛杉矶分校的研究生录取情况：\n",
    "\n",
    "- GRE 分数（测试）即 GRE Scores (Test)\n",
    "\n",
    "- GPA 分数（成绩）即 GPA Scores (Grades)\n",
    "\n",
    "- 评级（1-4）即 Class rank (1-4)\n",
    "\n",
    "数据集来源：http://www.ats.ucla.edu/"
   ]
  },
  {
   "cell_type": "markdown",
   "metadata": {},
   "source": [
    "## 加载数据"
   ]
  },
  {
   "cell_type": "code",
   "execution_count": 1,
   "metadata": {},
   "outputs": [],
   "source": [
    "# Importing pandas and numpy\n",
    "import pandas as pd\n",
    "import numpy as np"
   ]
  },
  {
   "cell_type": "code",
   "execution_count": 2,
   "metadata": {},
   "outputs": [
    {
     "data": {
      "text/html": [
       "<div>\n",
       "<style scoped>\n",
       "    .dataframe tbody tr th:only-of-type {\n",
       "        vertical-align: middle;\n",
       "    }\n",
       "\n",
       "    .dataframe tbody tr th {\n",
       "        vertical-align: top;\n",
       "    }\n",
       "\n",
       "    .dataframe thead th {\n",
       "        text-align: right;\n",
       "    }\n",
       "</style>\n",
       "<table border=\"1\" class=\"dataframe\">\n",
       "  <thead>\n",
       "    <tr style=\"text-align: right;\">\n",
       "      <th></th>\n",
       "      <th>admit</th>\n",
       "      <th>gre</th>\n",
       "      <th>gpa</th>\n",
       "      <th>rank</th>\n",
       "    </tr>\n",
       "  </thead>\n",
       "  <tbody>\n",
       "    <tr>\n",
       "      <th>0</th>\n",
       "      <td>0</td>\n",
       "      <td>380</td>\n",
       "      <td>3.61</td>\n",
       "      <td>3</td>\n",
       "    </tr>\n",
       "    <tr>\n",
       "      <th>1</th>\n",
       "      <td>1</td>\n",
       "      <td>660</td>\n",
       "      <td>3.67</td>\n",
       "      <td>3</td>\n",
       "    </tr>\n",
       "    <tr>\n",
       "      <th>2</th>\n",
       "      <td>1</td>\n",
       "      <td>800</td>\n",
       "      <td>4.00</td>\n",
       "      <td>1</td>\n",
       "    </tr>\n",
       "  </tbody>\n",
       "</table>\n",
       "</div>"
      ],
      "text/plain": [
       "   admit  gre   gpa  rank\n",
       "0      0  380  3.61     3\n",
       "1      1  660  3.67     3\n",
       "2      1  800  4.00     1"
      ]
     },
     "execution_count": 2,
     "metadata": {},
     "output_type": "execute_result"
    }
   ],
   "source": [
    "# Reading the csv file into a pandas DataFrame\n",
    "data = pd.read_csv('student_data.csv')\n",
    "\n",
    "data.head(3)"
   ]
  },
  {
   "cell_type": "markdown",
   "metadata": {},
   "source": [
    "## 绘制数据\n",
    "\n",
    "- 首先让我们对数据进行绘图，看看它是什么样的。为了绘制二维图，让我们先忽略评级 (`rank`)。"
   ]
  },
  {
   "cell_type": "code",
   "execution_count": 3,
   "metadata": {},
   "outputs": [],
   "source": [
    "import matplotlib.pyplot as plt"
   ]
  },
  {
   "cell_type": "code",
   "execution_count": 4,
   "metadata": {},
   "outputs": [
    {
     "data": {
      "image/png": "[encoded data removed]",
      "text/plain": [
       "<Figure size 432x288 with 1 Axes>"
      ]
     },
     "metadata": {
      "needs_background": "light"
     },
     "output_type": "display_data"
    }
   ],
   "source": [
    "# Function to help us plot\n",
    "def plot_points(data):\n",
    "    # define two axis content\n",
    "    X = np.array(data[[\"gre\",\"gpa\"]])\n",
    "    y = np.array(data[\"admit\"])\n",
    "    \n",
    "    # divide labels into two different color \n",
    "    admitted = X[np.argwhere(y==1)]\n",
    "    rejected = X[np.argwhere(y==0)]\n",
    "    \n",
    "    # draw the points on canvas\n",
    "    plt.scatter([s[0][0] for s in rejected], [s[0][1] for s in rejected], s = 25, color = 'red', edgecolor = 'k')\n",
    "    plt.scatter([s[0][0] for s in admitted], [s[0][1] for s in admitted], s = 25, color = 'cyan', edgecolor = 'k')\n",
    "    \n",
    "    # set the axis names\n",
    "    plt.xlabel('Test (GRE)')\n",
    "    plt.ylabel('Grades (GPA)')\n",
    "    \n",
    "# Plotting the points\n",
    "plot_points(data)\n",
    "\n",
    "plt.show()"
   ]
  },
  {
   "cell_type": "markdown",
   "metadata": {},
   "source": [
    "<img src='./output_3_0.png' width=360px>\n",
    "\n",
    "\n",
    "\n",
    "- 粗略地说，它看起来像是， __成绩 （`grades`) 和测试(`test`) 分数 高的学生通过了，而得分低的学生却没有__ ，但数据并 <font color=blue>没有</font> 如我们所希望的那样，<font color=blue>很好地分离</font>。         \n",
    "- 也许将评级 (`rank`) 考虑进来会有帮助？     \n",
    "\n",
    "<font color=gray>接下来我们将绘制 4 个图，每个图代表一个级别。</font>"
   ]
  },
  {
   "cell_type": "code",
   "execution_count": 5,
   "metadata": {},
   "outputs": [
    {
     "data": {
      "text/plain": [
       "(<matplotlib.axes._subplots.AxesSubplot at 0x8ca3320>,\n",
       " None,\n",
       " Text(0.5, 1.0, 'Rank 4'))"
      ]
     },
     "execution_count": 5,
     "metadata": {},
     "output_type": "execute_result"
    },
    {
     "data": {
      "image/png": "[encoded data removed]",
      "text/plain": [
       "<Figure size 720x720 with 4 Axes>"
      ]
     },
     "metadata": {
      "needs_background": "light"
     },
     "output_type": "display_data"
    }
   ],
   "source": [
    "# Separating the ranks\n",
    "data_rank1 = data[data[\"rank\"]==1]\n",
    "data_rank2 = data[data[\"rank\"]==2]\n",
    "data_rank3 = data[data[\"rank\"]==3]\n",
    "data_rank4 = data[data[\"rank\"]==4]\n",
    "\n",
    "plt.figure(figsize=(10,10))\n",
    "plt.subplot(221), plot_points(data_rank1),plt.title('Rank 1', fontsize = 10)\n",
    "plt.subplot(222), plot_points(data_rank2),plt.title('Rank 2', fontsize = 10)\n",
    "plt.subplot(223), plot_points(data_rank3),plt.title('Rank 3', fontsize = 10)\n",
    "plt.subplot(224), plot_points(data_rank4),plt.title('Rank 4', fontsize = 10)"
   ]
  },
  {
   "cell_type": "markdown",
   "metadata": {},
   "source": [
    "<table><tr>\n",
    "<td><img src='output_5_0.png' width=360px></td>\n",
    "<td><img src='output_5_1.png' width=360px></td>\n",
    "</tr><tr>\n",
    "<td><img src='output_5_2.png' width=360px></td>\n",
    "<td><img src='output_5_3.png' width=360px></td>\n",
    "</tr></table>"
   ]
  },
  {
   "cell_type": "markdown",
   "metadata": {},
   "source": [
    "现在看起来更棒啦，看上去 __评级( `rank` ) 越低，录取率越高__ 。 让我们使用评级 (`rank`) 作为我们的输入之一。    \n",
    "为了做到这一点，我们应该对它进行一次 `one-hot encoding`"
   ]
  },
  {
   "cell_type": "markdown",
   "metadata": {},
   "source": [
    "## 将评级( `rank` ) 进行 One-hot 编码\n",
    "-  `pandas` - `get_dummies` 函数"
   ]
  },
  {
   "cell_type": "code",
   "execution_count": 6,
   "metadata": {},
   "outputs": [
    {
     "data": {
      "text/html": [
       "<div>\n",
       "<style scoped>\n",
       "    .dataframe tbody tr th:only-of-type {\n",
       "        vertical-align: middle;\n",
       "    }\n",
       "\n",
       "    .dataframe tbody tr th {\n",
       "        vertical-align: top;\n",
       "    }\n",
       "\n",
       "    .dataframe thead th {\n",
       "        text-align: right;\n",
       "    }\n",
       "</style>\n",
       "<table border=\"1\" class=\"dataframe\">\n",
       "  <thead>\n",
       "    <tr style=\"text-align: right;\">\n",
       "      <th></th>\n",
       "      <th>admit</th>\n",
       "      <th>gre</th>\n",
       "      <th>gpa</th>\n",
       "      <th>rank_1</th>\n",
       "      <th>rank_2</th>\n",
       "      <th>rank_3</th>\n",
       "      <th>rank_4</th>\n",
       "    </tr>\n",
       "  </thead>\n",
       "  <tbody>\n",
       "    <tr>\n",
       "      <th>0</th>\n",
       "      <td>0</td>\n",
       "      <td>380</td>\n",
       "      <td>3.61</td>\n",
       "      <td>0</td>\n",
       "      <td>0</td>\n",
       "      <td>1</td>\n",
       "      <td>0</td>\n",
       "    </tr>\n",
       "    <tr>\n",
       "      <th>1</th>\n",
       "      <td>1</td>\n",
       "      <td>660</td>\n",
       "      <td>3.67</td>\n",
       "      <td>0</td>\n",
       "      <td>0</td>\n",
       "      <td>1</td>\n",
       "      <td>0</td>\n",
       "    </tr>\n",
       "    <tr>\n",
       "      <th>2</th>\n",
       "      <td>1</td>\n",
       "      <td>800</td>\n",
       "      <td>4.00</td>\n",
       "      <td>1</td>\n",
       "      <td>0</td>\n",
       "      <td>0</td>\n",
       "      <td>0</td>\n",
       "    </tr>\n",
       "  </tbody>\n",
       "</table>\n",
       "</div>"
      ],
      "text/plain": [
       "   admit  gre   gpa  rank_1  rank_2  rank_3  rank_4\n",
       "0      0  380  3.61       0       0       1       0\n",
       "1      1  660  3.67       0       0       1       0\n",
       "2      1  800  4.00       1       0       0       0"
      ]
     },
     "execution_count": 6,
     "metadata": {},
     "output_type": "execute_result"
    }
   ],
   "source": [
    "# Make dummy variables for rank(appoint operated data and dummy data prefix)\n",
    "one_hot_data = pd.concat([data, pd.get_dummies(data['rank'], prefix='rank')], axis=1)\n",
    "\n",
    "# Drop the previous rank column\n",
    "one_hot_data = one_hot_data.drop('rank', axis=1)\n",
    "\n",
    "# Print the first 10 rows of our data\n",
    "one_hot_data.head(3)"
   ]
  },
  {
   "cell_type": "markdown",
   "metadata": {},
   "source": [
    "## 缩放数据\n",
    "下一步是缩放数据。 \n",
    "我们注意到成绩 (`grades`) 的范围是 `1.0-4.0`，而测试分数 （`test scores`) 的范围大概是 `200-800`，这个范围要<font color=red>大得多</font>。      \n",
    "这意味着我们的 __数据存在偏差__ ，使得神经网络很难处理。 让我们<font color=blue>将两个特征放在 0-1 的范围内，将分数除以 4.0，将测试分数除以 800</font>。"
   ]
  },
  {
   "cell_type": "code",
   "execution_count": 7,
   "metadata": {
    "code_folding": []
   },
   "outputs": [
    {
     "data": {
      "text/html": [
       "<div>\n",
       "<style scoped>\n",
       "    .dataframe tbody tr th:only-of-type {\n",
       "        vertical-align: middle;\n",
       "    }\n",
       "\n",
       "    .dataframe tbody tr th {\n",
       "        vertical-align: top;\n",
       "    }\n",
       "\n",
       "    .dataframe thead th {\n",
       "        text-align: right;\n",
       "    }\n",
       "</style>\n",
       "<table border=\"1\" class=\"dataframe\">\n",
       "  <thead>\n",
       "    <tr style=\"text-align: right;\">\n",
       "      <th></th>\n",
       "      <th>admit</th>\n",
       "      <th>gre</th>\n",
       "      <th>gpa</th>\n",
       "      <th>rank_1</th>\n",
       "      <th>rank_2</th>\n",
       "      <th>rank_3</th>\n",
       "      <th>rank_4</th>\n",
       "    </tr>\n",
       "  </thead>\n",
       "  <tbody>\n",
       "    <tr>\n",
       "      <th>0</th>\n",
       "      <td>0</td>\n",
       "      <td>0.475</td>\n",
       "      <td>0.9025</td>\n",
       "      <td>0</td>\n",
       "      <td>0</td>\n",
       "      <td>1</td>\n",
       "      <td>0</td>\n",
       "    </tr>\n",
       "    <tr>\n",
       "      <th>1</th>\n",
       "      <td>1</td>\n",
       "      <td>0.825</td>\n",
       "      <td>0.9175</td>\n",
       "      <td>0</td>\n",
       "      <td>0</td>\n",
       "      <td>1</td>\n",
       "      <td>0</td>\n",
       "    </tr>\n",
       "    <tr>\n",
       "      <th>2</th>\n",
       "      <td>1</td>\n",
       "      <td>1.000</td>\n",
       "      <td>1.0000</td>\n",
       "      <td>1</td>\n",
       "      <td>0</td>\n",
       "      <td>0</td>\n",
       "      <td>0</td>\n",
       "    </tr>\n",
       "  </tbody>\n",
       "</table>\n",
       "</div>"
      ],
      "text/plain": [
       "   admit    gre     gpa  rank_1  rank_2  rank_3  rank_4\n",
       "0      0  0.475  0.9025       0       0       1       0\n",
       "1      1  0.825  0.9175       0       0       1       0\n",
       "2      1  1.000  1.0000       1       0       0       0"
      ]
     },
     "execution_count": 7,
     "metadata": {},
     "output_type": "execute_result"
    }
   ],
   "source": [
    "from copy import deepcopy\n",
    "# Copying our data\n",
    "processed_data = deepcopy(one_hot_data)\n",
    "\n",
    "# Scaling the columns\n",
    "processed_data['gre'] = processed_data['gre']/800\n",
    "processed_data['gpa'] = processed_data['gpa']/4.0\n",
    "\n",
    "# Scaling the columns to .1-.9\n",
    "# a, b = .1, .9\n",
    "# mx_gre, mn_gre = max(processed_data['gre']), min(processed_data['gre'])\n",
    "# mx_gpa, mn_gpa = max(processed_data['gpa']), min(processed_data['gpa'])\n",
    "# processed_data['gre'] = ((processed_data['gre']-mn_gre)*(b-a))/(mx_gre-mn_gre)+a\n",
    "# processed_data['gpa'] = ((processed_data['gpa']-mn_gpa)*(b-a))/(mx_gpa-mn_gpa)+a\n",
    "\n",
    "processed_data.head(3)"
   ]
  },
  {
   "cell_type": "markdown",
   "metadata": {},
   "source": [
    "## 分割数据集\n",
    "\n",
    "为了测试我们的算法，我们将数据分为训练集和测试集。 测试集的大小将占总数据的 __`10％`__ 。"
   ]
  },
  {
   "cell_type": "code",
   "execution_count": 8,
   "metadata": {},
   "outputs": [
    {
     "name": "stdout",
     "output_type": "stream",
     "text": [
      "Number of training samples is 360\n",
      "Number of testing samples is 40\n",
      "     admit    gre     gpa  rank_1  rank_2  rank_3  rank_4\n",
      "312      0  0.825  0.9425       0       0       1       0\n",
      "394      1  0.575  0.9975       0       0       1       0\n",
      "349      0  0.775  0.7125       0       1       0       0\n",
      "    admit    gre     gpa  rank_1  rank_2  rank_3  rank_4\n",
      "1       1  0.825  0.9175       0       0       1       0\n",
      "6       1  0.700  0.7450       1       0       0       0\n",
      "28      1  0.975  0.8050       0       1       0       0\n"
     ]
    }
   ],
   "source": [
    "# split data set by 'random.choice'\n",
    "sample = np.random.choice(processed_data.index, size=int(len(processed_data)*0.9), replace=False)\n",
    "train_data, test_data = processed_data.iloc[sample], processed_data.drop(sample)\n",
    "\n",
    "print(\"Number of training samples is\", len(train_data))\n",
    "print(\"Number of testing samples is\", len(test_data))\n",
    "print(train_data.head(3))\n",
    "print(test_data.head(3))"
   ]
  },
  {
   "cell_type": "markdown",
   "metadata": {},
   "source": [
    "## 将数据分成特征和目标（标签）\n",
    "现在，在训练数据集前的最后一步，将 __把数据分为特征 (features)（X）和目标 (targets)（y）__ 。\n",
    "\n",
    "另外，在 Keras 中，需要对输出进行 `one-hot 编码`。 这将使用`to_categorical 函数` 来做到这一点。"
   ]
  },
  {
   "cell_type": "code",
   "execution_count": 9,
   "metadata": {},
   "outputs": [
    {
     "name": "stderr",
     "output_type": "stream",
     "text": [
      "Using TensorFlow backend.\n"
     ]
    }
   ],
   "source": [
    "import keras\n",
    "from keras.utils import np_utils                                      # TO use 'to_categorical' to finish one-hot enoding"
   ]
  },
  {
   "cell_type": "code",
   "execution_count": 10,
   "metadata": {},
   "outputs": [
    {
     "name": "stdout",
     "output_type": "stream",
     "text": [
      "[[0.825  0.9425 0.     0.     1.     0.    ]\n",
      " [0.575  0.9975 0.     0.     1.     0.    ]\n",
      " [0.775  0.7125 0.     1.     0.     0.    ]]\n",
      "[[1. 0.]\n",
      " [0. 1.]\n",
      " [1. 0.]]\n"
     ]
    }
   ],
   "source": [
    "# Separate data and one-hot encode the output\n",
    "# Note: We're also turning the data into numpy arrays, in order to train the model in Keras\n",
    "features = np.array(train_data.drop('admit', axis=1))\n",
    "targets = np.array(np_utils.to_categorical(train_data['admit'], 2))\n",
    "\n",
    "features_test = np.array(test_data.drop('admit', axis=1))\n",
    "targets_test = np.array(np_utils.to_categorical(test_data['admit'], 2))\n",
    "\n",
    "print(features[:3])\n",
    "print(targets[:3])"
   ]
  },
  {
   "cell_type": "markdown",
   "metadata": {},
   "source": [
    "## 定义模型架构\n",
    "我们将使用 `Keras` 来构建神经网络。"
   ]
  },
  {
   "cell_type": "code",
   "execution_count": 11,
   "metadata": {},
   "outputs": [],
   "source": [
    "import numpy as np\n",
    "\n",
    "from keras.models import Sequential                                   # model initialize\n",
    "from keras.layers.core import Dense, Dropout, Activation              # 3 kinds of neural network layer\n",
    "from keras.optimizers import SGD                                      # SGD(stochastic gradient descent) optimizer\n",
    "from keras.utils import np_utils                                      # TO use 'to_categorical' to finish one-hot enoding"
   ]
  },
  {
   "cell_type": "code",
   "execution_count": 97,
   "metadata": {},
   "outputs": [
    {
     "name": "stdout",
     "output_type": "stream",
     "text": [
      "_________________________________________________________________\n",
      "Layer (type)                 Output Shape              Param #   \n",
      "=================================================================\n",
      "dense_85 (Dense)             (None, 8)                 56        \n",
      "_________________________________________________________________\n",
      "dense_86 (Dense)             (None, 4)                 36        \n",
      "_________________________________________________________________\n",
      "dense_87 (Dense)             (None, 2)                 10        \n",
      "=================================================================\n",
      "Total params: 102\n",
      "Trainable params: 102\n",
      "Non-trainable params: 0\n",
      "_________________________________________________________________\n"
     ]
    }
   ],
   "source": [
    "# Building the model\n",
    "model = Sequential()\n",
    "model.add(Dense(8, activation='softmax', input_shape=(6,)))\n",
    "# model.add(Dropout(.2))\n",
    "model.add(Dense(4, activation='softmax'))\n",
    "# model.add(Dropout(.1))\n",
    "model.add(Dense(2, activation='sigmoid'))\n",
    "\n",
    "# Compiling the model\n",
    "model.compile(loss = 'categorical_crossentropy', optimizer='adam', metrics=['accuracy'])\n",
    "model.summary()"
   ]
  },
  {
   "cell_type": "markdown",
   "metadata": {},
   "source": [
    "## 训练模型"
   ]
  },
  {
   "cell_type": "code",
   "execution_count": 98,
   "metadata": {},
   "outputs": [
    {
     "data": {
      "text/plain": [
       "<keras.callbacks.History at 0x3647b2b0>"
      ]
     },
     "execution_count": 98,
     "metadata": {},
     "output_type": "execute_result"
    }
   ],
   "source": [
    "# Training the model\n",
    "model.fit(features, targets, epochs=500, batch_size=100, verbose=0)"
   ]
  },
  {
   "cell_type": "markdown",
   "metadata": {},
   "source": [
    "## 模型评分"
   ]
  },
  {
   "cell_type": "code",
   "execution_count": 99,
   "metadata": {},
   "outputs": [
    {
     "name": "stdout",
     "output_type": "stream",
     "text": [
      "360/360 [==============================] - 0s 1ms/step\n",
      "\n",
      " Training Accuracy: 0.6944444444444444\n",
      "40/40 [==============================] - 0s 75us/step\n",
      "\n",
      " Testing Accuracy: 0.7\n"
     ]
    }
   ],
   "source": [
    "# Evaluating the model on the training and testing set\n",
    "score = model.evaluate(features, targets)\n",
    "print(\"\\n Training Accuracy:\", score[1])\n",
    "score = model.evaluate(features_test, targets_test)\n",
    "print(\"\\n Testing Accuracy:\", score[1])"
   ]
  },
  {
   "cell_type": "markdown",
   "metadata": {},
   "source": [
    "## 练习：玩转参数\n",
    "\n",
    "你可以看到我们在训练过程中做了几个规定。 例如，对图层的数量，图层的大小，epoch 的数量等有所规定。\n",
    "现在轮到你来玩转参数！ 你能提高准确性吗？ 以下是针对这些参数的其他建议。 我们将在课程后面学习如下概念的定义：\n",
    "\n",
    "- 激活函数 (Activation function)：`relu`，`tanh`和 `sigmoid`\n",
    "- 损失函数 (Loss function)：`categorical_crossentropy`，`mean_squared_error`\n",
    "- 优化器 (Optimizer)：`rmsprop`，`adam`，`ada`"
   ]
  },
  {
   "cell_type": "markdown",
   "metadata": {},
   "source": [
    "hyper-params:\n",
    "```python\n",
    "model.add(Dense(8, activation='tanh', input_shape=(6,)))\n",
    "# model.add(Dropout(rate=1-.2))\n",
    "model.add(Dense(4, activation='tanh'))\n",
    "# model.add(Dropout(rate=1-.1))\n",
    "model.add(Dense(2, activation='sigmoid'))\n",
    "\n",
    "# Compiling the model\n",
    "model.compile(loss = 'categorical_crossentropy', optimizer='adam', metrics=['accuracy'])\n",
    "```\n",
    "result:\n",
    "\n",
    "| Training Accuracy | Testing Accuracy |\n",
    "| --- | --- |\n",
    "| 0.68055 | 0.85 |"
   ]
  }
 ],
 "metadata": {
  "kernelspec": {
   "display_name": "Python 3",
   "language": "python",
   "name": "python3"
  },
  "language_info": {
   "codemirror_mode": {
    "name": "ipython",
    "version": 3
   },
   "file_extension": ".py",
   "mimetype": "text/x-python",
   "name": "python",
   "nbconvert_exporter": "python",
   "pygments_lexer": "ipython3",
   "version": "3.7.1"
  },
  "toc": {
   "base_numbering": 1,
   "nav_menu": {},
   "number_sections": true,
   "sideBar": true,
   "skip_h1_title": false,
   "title_cell": "Table of Contents",
   "title_sidebar": "Contents",
   "toc_cell": false,
   "toc_position": {},
   "toc_section_display": true,
   "toc_window_display": true
  }
 },
 "nbformat": 4,
 "nbformat_minor": 2
}
